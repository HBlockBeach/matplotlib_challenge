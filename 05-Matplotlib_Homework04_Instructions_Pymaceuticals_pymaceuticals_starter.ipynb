{
 "cells": [
  {
   "cell_type": "markdown",
   "metadata": {},
   "source": [
    "## Observations and Insights"
   ]
  },
  {
   "cell_type": "markdown",
   "metadata": {},
   "source": []
  },
  {
   "cell_type": "markdown",
   "metadata": {},
   "source": [
    "## Dependencies and starter code"
   ]
  },
  {
   "cell_type": "code",
   "execution_count": null,
   "metadata": {},
   "outputs": [],
   "source": []
  },
  {
   "cell_type": "code",
   "execution_count": 126,
   "metadata": {},
   "outputs": [
    {
     "data": {
      "text/html": [
       "<div>\n",
       "<style scoped>\n",
       "    .dataframe tbody tr th:only-of-type {\n",
       "        vertical-align: middle;\n",
       "    }\n",
       "\n",
       "    .dataframe tbody tr th {\n",
       "        vertical-align: top;\n",
       "    }\n",
       "\n",
       "    .dataframe thead th {\n",
       "        text-align: right;\n",
       "    }\n",
       "</style>\n",
       "<table border=\"1\" class=\"dataframe\">\n",
       "  <thead>\n",
       "    <tr style=\"text-align: right;\">\n",
       "      <th></th>\n",
       "      <th>Mouse_ID</th>\n",
       "      <th>Drug_Regimen</th>\n",
       "      <th>Sex</th>\n",
       "      <th>Age_months</th>\n",
       "      <th>Weight (g)</th>\n",
       "      <th>Timepoint</th>\n",
       "      <th>TV</th>\n",
       "      <th>Metastatic Sites</th>\n",
       "    </tr>\n",
       "  </thead>\n",
       "  <tbody>\n",
       "    <tr>\n",
       "      <th>0</th>\n",
       "      <td>k403</td>\n",
       "      <td>Ramicane</td>\n",
       "      <td>Male</td>\n",
       "      <td>21</td>\n",
       "      <td>16</td>\n",
       "      <td>0</td>\n",
       "      <td>45.000000</td>\n",
       "      <td>0</td>\n",
       "    </tr>\n",
       "    <tr>\n",
       "      <th>1</th>\n",
       "      <td>k403</td>\n",
       "      <td>Ramicane</td>\n",
       "      <td>Male</td>\n",
       "      <td>21</td>\n",
       "      <td>16</td>\n",
       "      <td>5</td>\n",
       "      <td>38.825898</td>\n",
       "      <td>0</td>\n",
       "    </tr>\n",
       "    <tr>\n",
       "      <th>2</th>\n",
       "      <td>k403</td>\n",
       "      <td>Ramicane</td>\n",
       "      <td>Male</td>\n",
       "      <td>21</td>\n",
       "      <td>16</td>\n",
       "      <td>10</td>\n",
       "      <td>35.014271</td>\n",
       "      <td>1</td>\n",
       "    </tr>\n",
       "    <tr>\n",
       "      <th>3</th>\n",
       "      <td>k403</td>\n",
       "      <td>Ramicane</td>\n",
       "      <td>Male</td>\n",
       "      <td>21</td>\n",
       "      <td>16</td>\n",
       "      <td>15</td>\n",
       "      <td>34.223992</td>\n",
       "      <td>1</td>\n",
       "    </tr>\n",
       "    <tr>\n",
       "      <th>4</th>\n",
       "      <td>k403</td>\n",
       "      <td>Ramicane</td>\n",
       "      <td>Male</td>\n",
       "      <td>21</td>\n",
       "      <td>16</td>\n",
       "      <td>20</td>\n",
       "      <td>32.997729</td>\n",
       "      <td>1</td>\n",
       "    </tr>\n",
       "  </tbody>\n",
       "</table>\n",
       "</div>"
      ],
      "text/plain": [
       "  Mouse_ID Drug_Regimen   Sex  Age_months  Weight (g)  Timepoint         TV  \\\n",
       "0     k403     Ramicane  Male          21          16          0  45.000000   \n",
       "1     k403     Ramicane  Male          21          16          5  38.825898   \n",
       "2     k403     Ramicane  Male          21          16         10  35.014271   \n",
       "3     k403     Ramicane  Male          21          16         15  34.223992   \n",
       "4     k403     Ramicane  Male          21          16         20  32.997729   \n",
       "\n",
       "   Metastatic Sites  \n",
       "0                 0  \n",
       "1                 0  \n",
       "2                 1  \n",
       "3                 1  \n",
       "4                 1  "
      ]
     },
     "execution_count": 126,
     "metadata": {},
     "output_type": "execute_result"
    }
   ],
   "source": [
    "# Dependencies and Setup\n",
    "import matplotlib.pyplot as plt\n",
    "import pandas as pd\n",
    "import scipy.stats as st\n",
    "import numpy as np\n",
    "\n",
    "# Read the mouse data and the study results\n",
    "mouse_metadata = pd.read_csv(\"/Users/hunterblock/Documents/CWR-CLE-DATA-PT-01-2020-U-C/05-Matplotlib/Homework04/Instructions/Pymaceuticals/data/Mouse_metadata.csv\")\n",
    "study_results = pd.read_csv(\"/Users/hunterblock/Documents/CWR-CLE-DATA-PT-01-2020-U-C/05-Matplotlib/Homework04/Instructions/Pymaceuticals/data/Study_results.csv\")\n",
    "\n",
    "# Combine the data into a single dataset\n",
    "total_data = pd.merge(mouse_metadata,study_results, how = \"outer\",  on = \"Mouse ID\")\n",
    "total_data.sort_values([\"Mouse ID\", \"Timepoint\"])\n",
    "total_data.rename(columns={\"Drug Regimen\" : \"Drug_Regimen\", \"Tumor Volume (mm3)\" : \"TV\", \"Mouse ID\": \"Mouse_ID\"}, inplace= True)\n",
    "total_data.head()"
   ]
  },
  {
   "cell_type": "markdown",
   "metadata": {},
   "source": [
    "## Summary statistics"
   ]
  },
  {
   "cell_type": "code",
   "execution_count": 127,
   "metadata": {},
   "outputs": [
    {
     "name": "stdout",
     "output_type": "stream",
     "text": [
      "                          Summary Table                              \n",
      "---------------------------------------------------------------------\n"
     ]
    },
    {
     "data": {
      "text/html": [
       "<div>\n",
       "<style scoped>\n",
       "    .dataframe tbody tr th:only-of-type {\n",
       "        vertical-align: middle;\n",
       "    }\n",
       "\n",
       "    .dataframe tbody tr th {\n",
       "        vertical-align: top;\n",
       "    }\n",
       "\n",
       "    .dataframe thead th {\n",
       "        text-align: right;\n",
       "    }\n",
       "</style>\n",
       "<table border=\"1\" class=\"dataframe\">\n",
       "  <thead>\n",
       "    <tr style=\"text-align: right;\">\n",
       "      <th></th>\n",
       "      <th>Mean</th>\n",
       "      <th>Median</th>\n",
       "      <th>Variance</th>\n",
       "      <th>Standard Deviation</th>\n",
       "      <th>Standard Error of the Mean</th>\n",
       "    </tr>\n",
       "  </thead>\n",
       "  <tbody>\n",
       "    <tr>\n",
       "      <th>Remicane</th>\n",
       "      <td>40.216745</td>\n",
       "      <td>40.673236</td>\n",
       "      <td>23.383692</td>\n",
       "      <td>4.835669</td>\n",
       "      <td>0.320955</td>\n",
       "    </tr>\n",
       "    <tr>\n",
       "      <th>Capomulin</th>\n",
       "      <td>40.675741</td>\n",
       "      <td>41.557809</td>\n",
       "      <td>24.839296</td>\n",
       "      <td>4.983904</td>\n",
       "      <td>0.329346</td>\n",
       "    </tr>\n",
       "    <tr>\n",
       "      <th>Infubinol</th>\n",
       "      <td>52.884795</td>\n",
       "      <td>51.820584</td>\n",
       "      <td>42.886388</td>\n",
       "      <td>6.548770</td>\n",
       "      <td>0.492236</td>\n",
       "    </tr>\n",
       "    <tr>\n",
       "      <th>Placebo</th>\n",
       "      <td>54.033581</td>\n",
       "      <td>52.288934</td>\n",
       "      <td>60.830138</td>\n",
       "      <td>7.799368</td>\n",
       "      <td>0.581331</td>\n",
       "    </tr>\n",
       "    <tr>\n",
       "      <th>Ceftamin</th>\n",
       "      <td>52.591172</td>\n",
       "      <td>51.776157</td>\n",
       "      <td>39.069446</td>\n",
       "      <td>6.250556</td>\n",
       "      <td>0.469821</td>\n",
       "    </tr>\n",
       "    <tr>\n",
       "      <th>Stelasyn</th>\n",
       "      <td>54.233149</td>\n",
       "      <td>52.431737</td>\n",
       "      <td>59.122106</td>\n",
       "      <td>7.689090</td>\n",
       "      <td>0.573111</td>\n",
       "    </tr>\n",
       "    <tr>\n",
       "      <th>Zoniferol</th>\n",
       "      <td>53.236507</td>\n",
       "      <td>51.818479</td>\n",
       "      <td>48.266689</td>\n",
       "      <td>6.947423</td>\n",
       "      <td>0.516398</td>\n",
       "    </tr>\n",
       "    <tr>\n",
       "      <th>Ketapril</th>\n",
       "      <td>55.235638</td>\n",
       "      <td>53.698743</td>\n",
       "      <td>68.188930</td>\n",
       "      <td>8.257659</td>\n",
       "      <td>0.603860</td>\n",
       "    </tr>\n",
       "    <tr>\n",
       "      <th>Propriva</th>\n",
       "      <td>52.322552</td>\n",
       "      <td>50.854632</td>\n",
       "      <td>42.088020</td>\n",
       "      <td>6.487528</td>\n",
       "      <td>0.512884</td>\n",
       "    </tr>\n",
       "    <tr>\n",
       "      <th>Naftisol</th>\n",
       "      <td>54.331565</td>\n",
       "      <td>52.509285</td>\n",
       "      <td>65.817708</td>\n",
       "      <td>8.112811</td>\n",
       "      <td>0.596466</td>\n",
       "    </tr>\n",
       "  </tbody>\n",
       "</table>\n",
       "</div>"
      ],
      "text/plain": [
       "                Mean     Median   Variance  Standard Deviation  \\\n",
       "Remicane   40.216745  40.673236  23.383692            4.835669   \n",
       "Capomulin  40.675741  41.557809  24.839296            4.983904   \n",
       "Infubinol  52.884795  51.820584  42.886388            6.548770   \n",
       "Placebo    54.033581  52.288934  60.830138            7.799368   \n",
       "Ceftamin   52.591172  51.776157  39.069446            6.250556   \n",
       "Stelasyn   54.233149  52.431737  59.122106            7.689090   \n",
       "Zoniferol  53.236507  51.818479  48.266689            6.947423   \n",
       "Ketapril   55.235638  53.698743  68.188930            8.257659   \n",
       "Propriva   52.322552  50.854632  42.088020            6.487528   \n",
       "Naftisol   54.331565  52.509285  65.817708            8.112811   \n",
       "\n",
       "           Standard Error of the Mean  \n",
       "Remicane                     0.320955  \n",
       "Capomulin                    0.329346  \n",
       "Infubinol                    0.492236  \n",
       "Placebo                      0.581331  \n",
       "Ceftamin                     0.469821  \n",
       "Stelasyn                     0.573111  \n",
       "Zoniferol                    0.516398  \n",
       "Ketapril                     0.603860  \n",
       "Propriva                     0.512884  \n",
       "Naftisol                     0.596466  "
      ]
     },
     "execution_count": 127,
     "metadata": {},
     "output_type": "execute_result"
    }
   ],
   "source": [
    "# Generate a summary statistics table of mean, median, variance, standard deviation, \n",
    "# and SEM of the tumor volume for each regimen\n",
    "regimens = []\n",
    "for row in total_data[\"Drug_Regimen\"]:\n",
    "    \n",
    "    if row not in regimens:\n",
    "        regimens.append(row)\n",
    "\n",
    "#ramicane\n",
    "ramicane = total_data[total_data.Drug_Regimen == regimens[0]]\n",
    "ramicane_TV = ramicane[[\"TV\"]]\n",
    "ramicane_mean = ramicane_TV.mean()\n",
    "ramicane_median = ramicane_TV.median()\n",
    "ramicane_variance = np.var(ramicane_TV)\n",
    "ramicane_standarddev = np.std(ramicane_TV)\n",
    "ramicane_standardem = st.sem(ramicane_TV)\n",
    "\n",
    "ramicane_TV_df = pd.DataFrame()\n",
    "\n",
    "ramicane_TV_df[\"Mean\"]= ramicane_mean \n",
    "ramicane_TV_df[\"Median\"]= ramicane_median \n",
    "ramicane_TV_df[\"Variance\"]= ramicane_variance \n",
    "ramicane_TV_df[\"Standard Deviation\"]= ramicane_standarddev \n",
    "ramicane_TV_df[\"Standard Error of the Mean\"]= ramicane_standardem \n",
    "\n",
    "ramicane_TV_df.rename(index= {\"TV\": \"Remicane\"}, inplace= True)\n",
    "\n",
    "ramicane_TV_df\n",
    "\n",
    "#capomulin\n",
    "capomulin = total_data[total_data.Drug_Regimen == regimens[1]]\n",
    "capomulin_TV = capomulin[[\"TV\"]]\n",
    "capomulin_mean = capomulin_TV.mean()\n",
    "capomulin_median = capomulin_TV.median()\n",
    "capomulin_variance = np.var(capomulin_TV)\n",
    "capomulin_standarddev = np.std(capomulin_TV)\n",
    "capomulin_standardem = st.sem(capomulin_TV)\n",
    "\n",
    "capomulin_TV_df = pd.DataFrame()\n",
    "\n",
    "capomulin_TV_df[\"Mean\"]= capomulin_mean \n",
    "capomulin_TV_df[\"Median\"]= capomulin_median \n",
    "capomulin_TV_df[\"Variance\"]= capomulin_variance \n",
    "capomulin_TV_df[\"Standard Deviation\"]= capomulin_standarddev \n",
    "capomulin_TV_df[\"Standard Error of the Mean\"]= capomulin_standardem \n",
    "\n",
    "capomulin_TV_df.rename(index= {\"TV\": \"Capomulin\"}, inplace= True)\n",
    "\n",
    "capomulin_TV_df\n",
    "\n",
    "\n",
    "#infubinol\n",
    "infubinol = total_data[total_data.Drug_Regimen == regimens[2]]\n",
    "infubinol_TV = infubinol[[\"TV\"]]\n",
    "infubinol_mean = infubinol_TV.mean()\n",
    "infubinol_median = infubinol_TV.median()\n",
    "infubinol_variance = np.var(infubinol_TV)\n",
    "infubinol_standarddev = np.std(infubinol_TV)\n",
    "infubinol_standardem = st.sem(infubinol_TV)\n",
    "\n",
    "infubinol_TV_df = pd.DataFrame()\n",
    "\n",
    "infubinol_TV_df[\"Mean\"]= infubinol_mean \n",
    "infubinol_TV_df[\"Median\"]= infubinol_median \n",
    "infubinol_TV_df[\"Variance\"]= infubinol_variance \n",
    "infubinol_TV_df[\"Standard Deviation\"]= infubinol_standarddev \n",
    "infubinol_TV_df[\"Standard Error of the Mean\"]= infubinol_standardem \n",
    "\n",
    "infubinol_TV_df.rename(index= {\"TV\": \"Infubinol\"}, inplace= True)\n",
    "\n",
    "infubinol_TV_df\n",
    "\n",
    "#placebo\n",
    "placebo = total_data[total_data.Drug_Regimen == regimens[3]]\n",
    "placebo_TV = placebo[[\"TV\"]]\n",
    "placebo_mean = placebo_TV.mean()\n",
    "placebo_median = placebo_TV.median()\n",
    "placebo_variance = np.var(placebo_TV)\n",
    "placebo_standarddev = np.std(placebo_TV)\n",
    "placebo_standardem = st.sem(placebo_TV)\n",
    "\n",
    "placebo_TV_df = pd.DataFrame()\n",
    "\n",
    "placebo_TV_df[\"Mean\"]= placebo_mean \n",
    "placebo_TV_df[\"Median\"]= placebo_median \n",
    "placebo_TV_df[\"Variance\"]= placebo_variance \n",
    "placebo_TV_df[\"Standard Deviation\"]= placebo_standarddev \n",
    "placebo_TV_df[\"Standard Error of the Mean\"]= placebo_standardem \n",
    "\n",
    "placebo_TV_df.rename(index= {\"TV\": \"Placebo\"}, inplace= True)\n",
    "\n",
    "placebo_TV_df\n",
    "\n",
    "#ceftamin\n",
    "ceftamin = total_data[total_data.Drug_Regimen == regimens[4]]\n",
    "ceftamin_TV = ceftamin[[\"TV\"]]\n",
    "ceftamin_mean = ceftamin_TV.mean()\n",
    "ceftamin_median = ceftamin_TV.median()\n",
    "ceftamin_variance = np.var(ceftamin_TV)\n",
    "ceftamin_standarddev = np.std(ceftamin_TV)\n",
    "ceftamin_standardem = st.sem(ceftamin_TV)\n",
    "\n",
    "ceftamin_TV_df = pd.DataFrame()\n",
    "\n",
    "ceftamin_TV_df[\"Mean\"]= ceftamin_mean \n",
    "ceftamin_TV_df[\"Median\"]= ceftamin_median \n",
    "ceftamin_TV_df[\"Variance\"]= ceftamin_variance \n",
    "ceftamin_TV_df[\"Standard Deviation\"]= ceftamin_standarddev \n",
    "ceftamin_TV_df[\"Standard Error of the Mean\"]= ceftamin_standardem \n",
    "\n",
    "ceftamin_TV_df.rename(index= {\"TV\": \"Ceftamin\"}, inplace= True)\n",
    "\n",
    "ceftamin_TV_df\n",
    "\n",
    "\n",
    "\n",
    "#stelasyn\n",
    "stelasyn = total_data[total_data.Drug_Regimen == regimens[5]]\n",
    "stelasyn_TV = stelasyn[[\"TV\"]]\n",
    "stelasyn_mean = stelasyn_TV.mean()\n",
    "stelasyn_median = stelasyn_TV.median()\n",
    "stelasyn_variance = np.var(stelasyn_TV)\n",
    "stelasyn_standarddev = np.std(stelasyn_TV)\n",
    "stelasyn_standardem = st.sem(stelasyn_TV)\n",
    "\n",
    "stelasyn_TV_df = pd.DataFrame()\n",
    "\n",
    "stelasyn_TV_df[\"Mean\"]= stelasyn_mean \n",
    "stelasyn_TV_df[\"Median\"]= stelasyn_median \n",
    "stelasyn_TV_df[\"Variance\"]= stelasyn_variance \n",
    "stelasyn_TV_df[\"Standard Deviation\"]= stelasyn_standarddev \n",
    "stelasyn_TV_df[\"Standard Error of the Mean\"]= stelasyn_standardem \n",
    "\n",
    "stelasyn_TV_df.rename(index= {\"TV\": \"Stelasyn\"}, inplace= True)\n",
    "\n",
    "stelasyn_TV_df\n",
    "\n",
    "\n",
    "#zoniferol\n",
    "zoniferol = total_data[total_data.Drug_Regimen == regimens[6]]\n",
    "zoniferol_TV = zoniferol[[\"TV\"]]\n",
    "zoniferol_mean = zoniferol_TV.mean()\n",
    "zoniferol_median = zoniferol_TV.median()\n",
    "zoniferol_variance = np.var(zoniferol_TV)\n",
    "zoniferol_standarddev = np.std(zoniferol_TV)\n",
    "zoniferol_standardem = st.sem(zoniferol_TV)\n",
    "\n",
    "zoniferol_TV_df = pd.DataFrame()\n",
    "\n",
    "zoniferol_TV_df[\"Mean\"]= zoniferol_mean \n",
    "zoniferol_TV_df[\"Median\"]= zoniferol_median \n",
    "zoniferol_TV_df[\"Variance\"]= zoniferol_variance \n",
    "zoniferol_TV_df[\"Standard Deviation\"]= zoniferol_standarddev \n",
    "zoniferol_TV_df[\"Standard Error of the Mean\"]= zoniferol_standardem \n",
    "\n",
    "zoniferol_TV_df.rename(index= {\"TV\": \"Zoniferol\"}, inplace= True)\n",
    "\n",
    "zoniferol_TV_df\n",
    "\n",
    "\n",
    "#ketapril\n",
    "ketapril = total_data[total_data.Drug_Regimen == regimens[7]]\n",
    "ketapril_TV = ketapril[[\"TV\"]]\n",
    "ketapril_mean = ketapril_TV.mean()\n",
    "ketapril_median = ketapril_TV.median()\n",
    "ketapril_variance = np.var(ketapril_TV)\n",
    "ketapril_standarddev = np.std(ketapril_TV)\n",
    "ketapril_standardem = st.sem(ketapril_TV)\n",
    "\n",
    "ketapril_TV_df = pd.DataFrame()\n",
    "\n",
    "ketapril_TV_df[\"Mean\"]= ketapril_mean \n",
    "ketapril_TV_df[\"Median\"]= ketapril_median \n",
    "ketapril_TV_df[\"Variance\"]= ketapril_variance \n",
    "ketapril_TV_df[\"Standard Deviation\"]= ketapril_standarddev \n",
    "ketapril_TV_df[\"Standard Error of the Mean\"]= ketapril_standardem \n",
    "\n",
    "ketapril_TV_df.rename(index= {\"TV\": \"Ketapril\"}, inplace= True)\n",
    "\n",
    "ketapril_TV_df\n",
    "\n",
    "#propriva\n",
    "propriva = total_data[total_data.Drug_Regimen == regimens[8]]\n",
    "propriva_TV = propriva[[\"TV\"]]\n",
    "propriva_mean = propriva_TV.mean()\n",
    "propriva_median = propriva_TV.median()\n",
    "propriva_variance = np.var(propriva_TV)\n",
    "propriva_standarddev = np.std(propriva_TV)\n",
    "propriva_standardem = st.sem(propriva_TV)\n",
    "\n",
    "propriva_TV_df = pd.DataFrame()\n",
    "\n",
    "propriva_TV_df[\"Mean\"]= propriva_mean \n",
    "propriva_TV_df[\"Median\"]= propriva_median \n",
    "propriva_TV_df[\"Variance\"]= propriva_variance \n",
    "propriva_TV_df[\"Standard Deviation\"]= propriva_standarddev \n",
    "propriva_TV_df[\"Standard Error of the Mean\"]= propriva_standardem \n",
    "\n",
    "propriva_TV_df.rename(index= {\"TV\": \"Propriva\"}, inplace= True)\n",
    "\n",
    "propriva_TV_df\n",
    "\n",
    "#naftisol\n",
    "naftisol = total_data[total_data.Drug_Regimen == regimens[9]]\n",
    "naftisol_TV = naftisol[[\"TV\"]]\n",
    "naftisol_mean = naftisol_TV.mean()\n",
    "naftisol_median = naftisol_TV.median()\n",
    "naftisol_variance = np.var(naftisol_TV)\n",
    "naftisol_standarddev = np.std(naftisol_TV)\n",
    "naftisol_standardem= st.sem(naftisol_TV)\n",
    "\n",
    "naftisol_TV_df = pd.DataFrame()\n",
    "\n",
    "naftisol_TV_df[\"Mean\"]= naftisol_mean \n",
    "naftisol_TV_df[\"Median\"]= naftisol_median \n",
    "naftisol_TV_df[\"Variance\"]= naftisol_variance \n",
    "naftisol_TV_df[\"Standard Deviation\"]= naftisol_standarddev \n",
    "naftisol_TV_df[\"Standard Error of the Mean\"]= naftisol_standardem \n",
    "\n",
    "naftisol_TV_df.rename(index= {\"TV\": \"Naftisol\"}, inplace= True)\n",
    "\n",
    "naftisol_TV_df\n",
    "\n",
    "total_summary = pd.DataFrame()\n",
    "\n",
    "total_summary = ramicane_TV_df.append(capomulin_TV_df).append(infubinol_TV_df).append(placebo_TV_df).append(ceftamin_TV_df).append(stelasyn_TV_df).append(zoniferol_TV_df).append(ketapril_TV_df).append(propriva_TV_df).append(naftisol_TV_df)\n",
    "\n",
    "print(\"                          Summary Table                              \")\n",
    "print(\"---------------------------------------------------------------------\")\n",
    "total_summary"
   ]
  },
  {
   "cell_type": "markdown",
   "metadata": {},
   "source": [
    "## Bar plots"
   ]
  },
  {
   "cell_type": "code",
   "execution_count": 128,
   "metadata": {},
   "outputs": [
    {
     "data": {
      "text/plain": [
       "<matplotlib.axes._subplots.AxesSubplot at 0x1a18d53f50>"
      ]
     },
     "execution_count": 128,
     "metadata": {},
     "output_type": "execute_result"
    },
    {
     "data": {
      "image/png": "[encoded data removed]",
      "text/plain": [
       "<Figure size 432x288 with 1 Axes>"
      ]
     },
     "metadata": {
      "needs_background": "light"
     },
     "output_type": "display_data"
    }
   ],
   "source": [
    "# Generate a bar plot showing number of data points for each treatment regimen using pandas\n",
    "regimen_group = total_data.groupby(\"Drug_Regimen\")\n",
    "regimen_group_count = regimen_group[\"Timepoint\"].count()\n",
    "regimen_group_count\n",
    "\n",
    "plt.title(\"Observations per Treatment Regimen\")\n",
    "plt.xlabel(\"Drug Regimen\")\n",
    "plt.ylabel(\"Numer of Data Points\")\n",
    "\n",
    "regimen_group_count.plot(kind = 'bar')"
   ]
  },
  {
   "cell_type": "code",
   "execution_count": 129,
   "metadata": {},
   "outputs": [
    {
     "data": {
      "image/png": "[encoded data removed]",
      "text/plain": [
       "<Figure size 432x288 with 1 Axes>"
      ]
     },
     "metadata": {
      "needs_background": "light"
     },
     "output_type": "display_data"
    }
   ],
   "source": [
    "# Generate a bar plot showing number of data points for each treatment regimen using pyplot\n",
    "x_axis = np.arange(len(regimen_group))\n",
    "plt.xticks(x_axis,regimens, rotation = \"vertical\")\n",
    "plt.title(\"Observations per Treatment Regimen\")\n",
    "plt.xlabel(\"Drug Regimen\")\n",
    "plt.ylabel(\"Numer of Data Points\")\n",
    "\n",
    "plt.bar(x_axis, regimen_group_count)\n",
    "\n",
    "plt.show()"
   ]
  },
  {
   "cell_type": "markdown",
   "metadata": {},
   "source": [
    "## Pie plots"
   ]
  },
  {
   "cell_type": "code",
   "execution_count": 131,
   "metadata": {},
   "outputs": [
    {
     "data": {
      "text/plain": [
       "<matplotlib.axes._subplots.AxesSubplot at 0x1a192f38d0>"
      ]
     },
     "execution_count": 131,
     "metadata": {},
     "output_type": "execute_result"
    },
    {
     "data": {
      "image/png": "[encoded data removed]",
      "text/plain": [
       "<Figure size 432x288 with 1 Axes>"
      ]
     },
     "metadata": {},
     "output_type": "display_data"
    }
   ],
   "source": [
    "# Generate a pie plot showing the distribution of female versus male mice using pandas\n",
    "gender_grouped = total_data.groupby(\"Sex\")\n",
    "gender_count = gender_grouped[\"Mouse_ID\"].count()\n",
    "label = gender_count.keys()\n",
    "\n",
    "gender_count.plot(kind=\"pie\", title = \"Female vs Male Mice in Study\", autopct='%1.1f%%')"
   ]
  },
  {
   "cell_type": "code",
   "execution_count": 132,
   "metadata": {},
   "outputs": [
    {
     "data": {
      "image/png": "[encoded data removed]",
      "text/plain": [
       "<Figure size 432x288 with 1 Axes>"
      ]
     },
     "metadata": {},
     "output_type": "display_data"
    }
   ],
   "source": [
    "# Generate a pie plot showing the distribution of female versus male mice using pyplot\n",
    "\n",
    "plt.pie(gender_count, labels = label, autopct='%1.1f%%')\n",
    "plt.title(\"Female vs Male Mice in Study\")\n",
    "plt.show()"
   ]
  },
  {
   "cell_type": "markdown",
   "metadata": {},
   "source": [
    "## Quartiles, outliers and boxplots"
   ]
  },
  {
   "cell_type": "code",
   "execution_count": 202,
   "metadata": {},
   "outputs": [
    {
     "name": "stdout",
     "output_type": "stream",
     "text": [
      "['k403', 'g791', 's508', 'm546', 'z578', 'j913', 'n364', 'c758', 'a644', 'i177', 'j989', 'a520', 'r811', 'i334', 'q610', 'd251', 'c458', 'a411', 'e662', 'u196', 'q597', 'a444', 'r921', 'w678', 'y449']\n"
     ]
    },
    {
     "ename": "KeyError",
     "evalue": "\"None of [Index(['k403', 'k403', 'k403', 'k403', 'k403', 'k403', 'k403', 'k403', 'k403',\\n       'k403',\\n       ...\\n       'r921', 'r921', 'r921', 'r921', 'w678', 'w678', 'y449', 'y449', 'y449',\\n       'y449'],\\n      dtype='object', length=228)] are in the [columns]\"",
     "output_type": "error",
     "traceback": [
      "\u001b[0;31m---------------------------------------------------------------------------\u001b[0m",
      "\u001b[0;31mKeyError\u001b[0m                                  Traceback (most recent call last)",
      "\u001b[0;32m<ipython-input-202-825919ee7777>\u001b[0m in \u001b[0;36m<module>\u001b[0;34m\u001b[0m\n\u001b[1;32m     27\u001b[0m \u001b[0mmax_timepoint_ramicane\u001b[0m\u001b[0;34m\u001b[0m\u001b[0;34m\u001b[0m\u001b[0m\n\u001b[1;32m     28\u001b[0m \u001b[0;34m\u001b[0m\u001b[0m\n\u001b[0;32m---> 29\u001b[0;31m \u001b[0mramicane_final_final\u001b[0m \u001b[0;34m=\u001b[0m \u001b[0mramicane_final_volume\u001b[0m\u001b[0;34m[\u001b[0m\u001b[0mramicane_final_volume\u001b[0m\u001b[0;34m.\u001b[0m\u001b[0mMouse_ID\u001b[0m\u001b[0;34m]\u001b[0m \u001b[0;34m==\u001b[0m \u001b[0mmax_timepoint_ramicane\u001b[0m\u001b[0;34m[\u001b[0m\u001b[0mmax_timepoint_ramicane\u001b[0m\u001b[0;34m.\u001b[0m\u001b[0mMouse_ID\u001b[0m\u001b[0;34m]\u001b[0m\u001b[0;34m\u001b[0m\u001b[0;34m\u001b[0m\u001b[0m\n\u001b[0m\u001b[1;32m     30\u001b[0m \u001b[0;34m\u001b[0m\u001b[0m\n\u001b[1;32m     31\u001b[0m \u001b[0;31m#ramicane_final_volume_fin = ramicane_final_volume[(ramicane_final_volume.Mouse_ID == max_timepoint_ramicane.Mouse_ID)]\u001b[0m\u001b[0;34m\u001b[0m\u001b[0;34m\u001b[0m\u001b[0;34m\u001b[0m\u001b[0m\n",
      "\u001b[0;32m~/anaconda3/envs/PythonData/lib/python3.7/site-packages/pandas/core/frame.py\u001b[0m in \u001b[0;36m__getitem__\u001b[0;34m(self, key)\u001b[0m\n\u001b[1;32m   2804\u001b[0m             \u001b[0;32mif\u001b[0m \u001b[0mis_iterator\u001b[0m\u001b[0;34m(\u001b[0m\u001b[0mkey\u001b[0m\u001b[0;34m)\u001b[0m\u001b[0;34m:\u001b[0m\u001b[0;34m\u001b[0m\u001b[0;34m\u001b[0m\u001b[0m\n\u001b[1;32m   2805\u001b[0m                 \u001b[0mkey\u001b[0m \u001b[0;34m=\u001b[0m \u001b[0mlist\u001b[0m\u001b[0;34m(\u001b[0m\u001b[0mkey\u001b[0m\u001b[0;34m)\u001b[0m\u001b[0;34m\u001b[0m\u001b[0;34m\u001b[0m\u001b[0m\n\u001b[0;32m-> 2806\u001b[0;31m             \u001b[0mindexer\u001b[0m \u001b[0;34m=\u001b[0m \u001b[0mself\u001b[0m\u001b[0;34m.\u001b[0m\u001b[0mloc\u001b[0m\u001b[0;34m.\u001b[0m\u001b[0m_get_listlike_indexer\u001b[0m\u001b[0;34m(\u001b[0m\u001b[0mkey\u001b[0m\u001b[0;34m,\u001b[0m \u001b[0maxis\u001b[0m\u001b[0;34m=\u001b[0m\u001b[0;36m1\u001b[0m\u001b[0;34m,\u001b[0m \u001b[0mraise_missing\u001b[0m\u001b[0;34m=\u001b[0m\u001b[0;32mTrue\u001b[0m\u001b[0;34m)\u001b[0m\u001b[0;34m[\u001b[0m\u001b[0;36m1\u001b[0m\u001b[0;34m]\u001b[0m\u001b[0;34m\u001b[0m\u001b[0;34m\u001b[0m\u001b[0m\n\u001b[0m\u001b[1;32m   2807\u001b[0m \u001b[0;34m\u001b[0m\u001b[0m\n\u001b[1;32m   2808\u001b[0m         \u001b[0;31m# take() does not accept boolean indexers\u001b[0m\u001b[0;34m\u001b[0m\u001b[0;34m\u001b[0m\u001b[0;34m\u001b[0m\u001b[0m\n",
      "\u001b[0;32m~/anaconda3/envs/PythonData/lib/python3.7/site-packages/pandas/core/indexing.py\u001b[0m in \u001b[0;36m_get_listlike_indexer\u001b[0;34m(self, key, axis, raise_missing)\u001b[0m\n\u001b[1;32m   1550\u001b[0m \u001b[0;34m\u001b[0m\u001b[0m\n\u001b[1;32m   1551\u001b[0m         self._validate_read_indexer(\n\u001b[0;32m-> 1552\u001b[0;31m             \u001b[0mkeyarr\u001b[0m\u001b[0;34m,\u001b[0m \u001b[0mindexer\u001b[0m\u001b[0;34m,\u001b[0m \u001b[0mo\u001b[0m\u001b[0;34m.\u001b[0m\u001b[0m_get_axis_number\u001b[0m\u001b[0;34m(\u001b[0m\u001b[0maxis\u001b[0m\u001b[0;34m)\u001b[0m\u001b[0;34m,\u001b[0m \u001b[0mraise_missing\u001b[0m\u001b[0;34m=\u001b[0m\u001b[0mraise_missing\u001b[0m\u001b[0;34m\u001b[0m\u001b[0;34m\u001b[0m\u001b[0m\n\u001b[0m\u001b[1;32m   1553\u001b[0m         )\n\u001b[1;32m   1554\u001b[0m         \u001b[0;32mreturn\u001b[0m \u001b[0mkeyarr\u001b[0m\u001b[0;34m,\u001b[0m \u001b[0mindexer\u001b[0m\u001b[0;34m\u001b[0m\u001b[0;34m\u001b[0m\u001b[0m\n",
      "\u001b[0;32m~/anaconda3/envs/PythonData/lib/python3.7/site-packages/pandas/core/indexing.py\u001b[0m in \u001b[0;36m_validate_read_indexer\u001b[0;34m(self, key, indexer, axis, raise_missing)\u001b[0m\n\u001b[1;32m   1637\u001b[0m             \u001b[0;32mif\u001b[0m \u001b[0mmissing\u001b[0m \u001b[0;34m==\u001b[0m \u001b[0mlen\u001b[0m\u001b[0;34m(\u001b[0m\u001b[0mindexer\u001b[0m\u001b[0;34m)\u001b[0m\u001b[0;34m:\u001b[0m\u001b[0;34m\u001b[0m\u001b[0;34m\u001b[0m\u001b[0m\n\u001b[1;32m   1638\u001b[0m                 \u001b[0maxis_name\u001b[0m \u001b[0;34m=\u001b[0m \u001b[0mself\u001b[0m\u001b[0;34m.\u001b[0m\u001b[0mobj\u001b[0m\u001b[0;34m.\u001b[0m\u001b[0m_get_axis_name\u001b[0m\u001b[0;34m(\u001b[0m\u001b[0maxis\u001b[0m\u001b[0;34m)\u001b[0m\u001b[0;34m\u001b[0m\u001b[0;34m\u001b[0m\u001b[0m\n\u001b[0;32m-> 1639\u001b[0;31m                 \u001b[0;32mraise\u001b[0m \u001b[0mKeyError\u001b[0m\u001b[0;34m(\u001b[0m\u001b[0;34mf\"None of [{key}] are in the [{axis_name}]\"\u001b[0m\u001b[0;34m)\u001b[0m\u001b[0;34m\u001b[0m\u001b[0;34m\u001b[0m\u001b[0m\n\u001b[0m\u001b[1;32m   1640\u001b[0m \u001b[0;34m\u001b[0m\u001b[0m\n\u001b[1;32m   1641\u001b[0m             \u001b[0;31m# We (temporarily) allow for some missing keys with .loc, except in\u001b[0m\u001b[0;34m\u001b[0m\u001b[0;34m\u001b[0m\u001b[0;34m\u001b[0m\u001b[0m\n",
      "\u001b[0;31mKeyError\u001b[0m: \"None of [Index(['k403', 'k403', 'k403', 'k403', 'k403', 'k403', 'k403', 'k403', 'k403',\\n       'k403',\\n       ...\\n       'r921', 'r921', 'r921', 'r921', 'w678', 'w678', 'y449', 'y449', 'y449',\\n       'y449'],\\n      dtype='object', length=228)] are in the [columns]\""
     ]
    }
   ],
   "source": [
    "# Calculate the final tumor volume of each mouse across four of the most promising treatment regimens. Calculate the IQR and quantitatively determine if there are any potential outliers. \n",
    "#ramicane_mouse_id = []\n",
    "\n",
    "for row in ramicane[\"Mouse_ID\"]:\n",
    "    if row not in ramicane_mouse_id:\n",
    "        ramicane_mouse_id.append(row)\n",
    "print(ramicane_mouse_id)\n",
    "\n",
    "#ramicane_final_tumor = []\n",
    "\n",
    "ramicane_final_volume = ramicane[[\"Mouse_ID\", \"Timepoint\", \"TV\"]]\n",
    "ramicane_final_volume.set_index(\"Mouse_ID\")\n",
    "\n",
    "\n",
    "#for index, row in ramicane_final_volume.iterrows():\n",
    " #   print(index,row)\n",
    "\n",
    "\n",
    "#return mouse id and tv where timepoint = max(timepoint)\n",
    "\n",
    "ramicane_group = ramicane_final_volume.groupby(\"Mouse_ID\", as_index=False)\n",
    "\n",
    "max_timepoint_ramicane = ramicane_group[\"Timepoint\"].max()\n",
    "max_timepoint_ramicane = pd.DataFrame(max_timepoint_ramicane)\n",
    "max_timepoint_ramicane.set_index(\"Mouse_ID\")\n",
    "\n",
    "max_timepoint_ramicane\n",
    "\n",
    "ramicane_final_final = ramicane_final_volume[ramicane_final_volume.Mouse_ID] == max_timepoint_ramicane[max_timepoint_ramicane.Mouse_ID]\n",
    "\n",
    "#ramicane_final_volume_fin = ramicane_final_volume[(ramicane_final_volume.Mouse_ID == max_timepoint_ramicane.Mouse_ID)]\n",
    "#ramicane_final_volume_fin\n",
    "\n",
    "#capomulin\n",
    "#infubinol\n",
    "#ceftamin\n",
    "\n"
   ]
  },
  {
   "cell_type": "code",
   "execution_count": 160,
   "metadata": {},
   "outputs": [],
   "source": [
    "# Generate a box plot of the final tumor volume of each mouse across four regimens of interest"
   ]
  },
  {
   "cell_type": "markdown",
   "metadata": {},
   "source": [
    "## Line and scatter plots"
   ]
  },
  {
   "cell_type": "code",
   "execution_count": 237,
   "metadata": {},
   "outputs": [
    {
     "data": {
      "text/plain": [
       "<matplotlib.axes._subplots.AxesSubplot at 0x1a1a3b6e50>"
      ]
     },
     "execution_count": 237,
     "metadata": {},
     "output_type": "execute_result"
    },
    {
     "data": {
      "image/png": "[encoded data removed]",
      "text/plain": [
       "<Figure size 432x288 with 1 Axes>"
      ]
     },
     "metadata": {
      "needs_background": "light"
     },
     "output_type": "display_data"
    }
   ],
   "source": [
    "# Generate a line plot of time point versus tumor volume for a mouse treated with Capomulin\n",
    "mouse = \"s185\"\n",
    "capomulin_tp_tv = capomulin[[\"Mouse_ID\", \"Timepoint\", \"TV\"]]\n",
    "\n",
    "capomulin_tp_tv = capomulin_tp_tv.set_index(\"Mouse_ID\")\n",
    "one_mouse = capomulin_tp_tv.loc[mouse]\n",
    "one_mouse = one_mouse.reset_index()\n",
    "one_mouse_drop = one_mouse.drop([\"Mouse_ID\"], axis = 1)\n",
    "one_mouse_newindex = one_mouse_drop.set_index(\"Timepoint\")\n",
    "\n",
    "one_mouse_plot = one_mouse_newindex.rename(columns={\"TV\": \"Total Volume (mm3)\"})\n",
    "one_mouse_plot.plot(kind= \"line\")\n",
    "#plt.xlim()"
   ]
  },
  {
   "cell_type": "code",
   "execution_count": 231,
   "metadata": {},
   "outputs": [],
   "source": [
    "# Generate a scatter plot of mouse weight versus average tumor volume for the Capomulin regimen"
   ]
  },
  {
   "cell_type": "code",
   "execution_count": 11,
   "metadata": {},
   "outputs": [],
   "source": [
    "# Calculate the correlation coefficient and linear regression model for mouse weight and average tumor volume for the Capomulin regimen"
   ]
  },
  {
   "cell_type": "code",
   "execution_count": null,
   "metadata": {},
   "outputs": [],
   "source": []
  }
 ],
 "metadata": {
  "anaconda-cloud": {},
  "kernelspec": {
   "display_name": "Python [conda env:PythonData] *",
   "language": "python",
   "name": "conda-env-PythonData-py"
  },
  "language_info": {
   "codemirror_mode": {
    "name": "ipython",
    "version": 3
   },
   "file_extension": ".py",
   "mimetype": "text/x-python",
   "name": "python",
   "nbconvert_exporter": "python",
   "pygments_lexer": "ipython3",
   "version": "3.7.6"
  }
 },
 "nbformat": 4,
 "nbformat_minor": 2
}
